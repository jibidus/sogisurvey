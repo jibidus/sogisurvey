{
 "cells": [
  {
   "cell_type": "code",
   "metadata": {
    "collapsed": true
   },
   "source": [
    "%useLatestDescriptors\n",
    "%use dataframe"
   ],
   "outputs": [],
   "execution_count": null
  },
  {
   "metadata": {},
   "cell_type": "markdown",
   "source": [
    "# How to get results from heroku instance?\n",
    "\n",
    "1. Restore database from heroku into local postgres instance\n",
    "\n",
    "```bash\n",
    "make db-dump\n",
    "```\n",
    "\n",
    "Heroku cli must by already logged in.\n",
    "\n",
    "2. Export data from local postgres instance into results.csv with following query:\n",
    "\n",
    "```sql\n",
    "with resultats as (\n",
    "   select r.author, r.comment, p.criterion_id , p.priority, p.comment as priority_comment\n",
    "   ,min(p.priority) over (partition by r.author) as priority_min\n",
    "   ,max(p.priority) over (partition by r.author) as priority_max\n",
    "   from sogisurvey.responses as r\n",
    "   inner join sogisurvey.priorities as p\n",
    "   on r.id = p.response_id\n",
    ")\n",
    "select author, comment, criterion_id, priority\n",
    ", 100 * (priority - priority_min) / (priority_max - priority_min) as normalized_priority\n",
    ", priority_comment\n",
    "from resultats\n",
    "``"
   ]
  },
  {
   "metadata": {},
   "cell_type": "code",
   "source": [
    "val raw = DataFrame.read(\"./results.csv\")\n",
    "raw.head()"
   ],
   "outputs": [],
   "execution_count": null
  },
  {
   "metadata": {},
   "cell_type": "code",
   "source": [
    "import com.sogilis.survey.CRITERIA\n",
    "val responses = raw.add(\"criterion\") { CRITERIA.first { it.id == criterion_id }.title }\n",
    "responses.head()"
   ],
   "outputs": [],
   "execution_count": null
  },
  {
   "metadata": {},
   "cell_type": "code",
   "source": [
    "val authors = responses.distinct { author }\n",
    "val participation_rate = (100.0 * authors.count() / 31).toInt()\n",
    "val responsesWithComment = responses\n",
    "    .filter { comment?.isNotBlank() ?: false }\n",
    "    .distinct { author and comment }\n",
    "val html = buildString {\n",
    "    append(\"<b>${authors.count()}</b> personnes ont répondu (aux de participation: ${participation_rate}%.\")\n",
    "    append(\"<ul>\")\n",
    "    responsesWithComment.forEach {\n",
    "        append(\"<li><b>$author</b> a commenté : \\\"$comment\\\"</li>\")\n",
    "    }\n",
    "    append(\"</ul>\")\n",
    "}\n",
    "DISPLAY(HTML(html))"
   ],
   "outputs": [],
   "execution_count": null
  },
  {
   "metadata": {},
   "cell_type": "code",
   "source": "%use kandy",
   "outputs": [],
   "execution_count": null
  },
  {
   "metadata": {},
   "cell_type": "code",
   "source": [
    "responses.add(\"color\") { if (priority_comment != null) \"red\" else \"default\" }.plot {\n",
    "//responses.plot {\n",
    "    points {\n",
    "        x(criterion_id) {\n",
    "            axis.name = \"Critère\"\n",
    "        }\n",
    "        y(normalized_priority) {\n",
    "            axis.name = \"Importance\"\n",
    "            axis.breaks(listOf(0, 50, 100))\n",
    "        }\n",
    "        color(\"color\")\n",
    "        tooltips(author, priority_comment)\n",
    "        //symbol = Symbol.CROSS\n",
    "        alpha = .4\n",
    "    }\n",
    "    layout {\n",
    "        style {\n",
    "            legend.position = LegendPosition.None\n",
    "        }\n",
    "        size = 1200 to 800\n",
    "    }\n",
    "}\n",
    "//.save(\"results.svg\")"
   ],
   "outputs": [],
   "execution_count": null
  },
  {
   "metadata": {},
   "cell_type": "code",
   "source": [
    "// Required to sort my median (see next cell)\n",
    "val statsPlot = responses.statBoxplot {\n",
    "    x(criterion_id)\n",
    "    y(normalized_priority)\n",
    "}"
   ],
   "outputs": [],
   "execution_count": null
  },
  {
   "metadata": {},
   "cell_type": "code",
   "source": [
    "statsPlot.sortBy { Stat.middle }.reverse().plot {\n",
    "    boxes {\n",
    "        x(Stat.x)\n",
    "        yMin(Stat.min)\n",
    "        lower(Stat.lower)\n",
    "        middle(Stat.middle)\n",
    "        upper(Stat.upper)\n",
    "        yMax(Stat.max)\n",
    "    }\n",
    "    layout {\n",
    "        y.axis.name = \"Criteria\"\n",
    "        size = 1200 to 600\n",
    "    }\n",
    "}"
   ],
   "outputs": [],
   "execution_count": null
  },
  {
   "metadata": {},
   "cell_type": "markdown",
   "source": [
    "📣 Voici les résultats du sondage **\"c'est quoi un bon projet ?\"** auquel 21 personnes ont répondu (taux de participation : **68%**). Pour bien interpréter les résultats, un petit [schéma](https://fr.wikipedia.org/wiki/Bo%C3%AEte_%C3%A0_moustaches#/media/Fichier:Boite_a_moustaches_d4.svg) (issu de la page wikipédia sur les [boîtes à moustaches](https://fr.wikipedia.org/wiki/Bo%C3%AEte_%C3%A0_moustaches)) et quelques rappels de définition sur les valeurs importantes :\n",
    "\n",
    "* La **médiane** est la valeur qui partage une série de données en deux groupes de même nombre d'éléments (différent de la moyenne donc !)\n",
    "* Les **quartiles** divisent la série en quatre groupes, donc le 1er quartile et le 3e quartile marquent les **bornes à 25% et 75%** (le 2e quartile à 50% étant la médiane)\n",
    "\n",
    "2 critères sont prépondérants :\n",
    "* `🔄 Le client souhaite s'améliorer et est à l'écoute de propositions`\n",
    "* `🎉 Ambiance avec le client`\n",
    "\n",
    "Ce qui est important mais variable selon les devs :\n",
    "* `👫 Pouvoir travailler en équipe Sogilis`\n",
    "* `🐈 Confort de l'environnement de travail chez le client`\n",
    "* `🏠 Travail à distance`\n",
    "* `⛵️ Autonomie pour adresser les besoins exprimés`\n",
    "* `🏙️ Domaine métier`\n",
    "* `🏃‍♀️ La mission me fait progresser rapidement`\n",
    "\n",
    "Ce qui est moins important mais pas pour tout le monde :\n",
    "* `🧑‍🔧 Contexte technique`\n",
    "* `📍 Localisation du client`\n",
    "* `👨🏻‍💻 Contraintes sur l'environnement de dev`\n",
    "* `🧑‍🍳 Type de gestion de projet`\n",
    "* `🪠 Technos, langages`\n",
    "* `💻 Base de code existante`\n",
    "\n",
    "Ce qui n'est pas important :\n",
    "* `⏱️ Durée de mission`\n",
    "* `🔖 Type de contrat`"
   ]
  }
 ],
 "metadata": {
  "kernelspec": {
   "display_name": "Kotlin",
   "language": "kotlin",
   "name": "kotlin"
  },
  "language_info": {
   "name": "kotlin",
   "version": "1.9.23",
   "mimetype": "text/x-kotlin",
   "file_extension": ".kt",
   "pygments_lexer": "kotlin",
   "codemirror_mode": "text/x-kotlin",
   "nbconvert_exporter": ""
  },
  "ktnbPluginMetadata": {
   "projectDependencies": [
    "sogisurvey.main"
   ],
   "projectLibraries": false
  }
 },
 "nbformat": 4,
 "nbformat_minor": 0
}
